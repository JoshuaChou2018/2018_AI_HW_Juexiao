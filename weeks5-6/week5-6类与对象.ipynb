{
 "cells": [
  {
   "cell_type": "code",
   "execution_count": 14,
   "metadata": {},
   "outputs": [
    {
     "name": "stdout",
     "output_type": "stream",
     "text": [
      "---吃----\n",
      "---喝---\n",
      "---睡---\n",
      "花色\n",
      "5\n",
      "you\n"
     ]
    }
   ],
   "source": [
    "class cat:\n",
    "    \n",
    "    def eat(self):\n",
    "        print(\"---吃----\")\n",
    "    def drink(self):\n",
    "        print(\"---喝---\")\n",
    "    def sleep(self):\n",
    "        print(\"---睡---\")\n",
    "    def printInfo(self):\n",
    "        print(self.weiba)\n",
    "#         print(self.high)\n",
    "\n",
    "xiaomao = cat()\n",
    "xiaomao.eat()\n",
    "xiaomao.drink()\n",
    "xiaomao.sleep()\n",
    "\n",
    "\n",
    "xiaomao.color = \"花色\"\n",
    "xiaomao.weight = 5\n",
    "xiaomao.weiba = \"you\"\n",
    "\n",
    "a = xiaomao.color\n",
    "print(a)\n",
    "print(xiaomao.weight)\n",
    "xiaomao.printInfo()"
   ]
  },
  {
   "cell_type": "code",
   "execution_count": 9,
   "metadata": {},
   "outputs": [
    {
     "name": "stdout",
     "output_type": "stream",
     "text": [
      "花色\n",
      "---吃----\n",
      "---喝---\n",
      "---睡--a=11--b=22\n",
      "有\n"
     ]
    }
   ],
   "source": [
    "class cat:\n",
    "    def __init__(self,newColor,newWeigh,newWeiba):\n",
    "        self.color = newColor\n",
    "        self.weight = newWeigh\n",
    "        self.weiba = newWeiba\n",
    "        print(newColor)\n",
    "    \n",
    "    def eat(self):\n",
    "        print(\"---吃----\")\n",
    "    def drink(self):\n",
    "        print(\"---喝---\")\n",
    "    def sleep(self,a,b):\n",
    "        print(\"---睡--a=%d--b=%d\"%(a,b))\n",
    "    def printInfo(self):\n",
    "        print(self.weiba)\n",
    "#         print(self.high)\n",
    "\n",
    "xiaomao = cat(\"花色\",5,\"有\")\n",
    "xiaomao.eat()\n",
    "xiaomao.drink()\n",
    "xiaomao.sleep(11,22)\n",
    "xiaomao.printInfo()\n"
   ]
  },
  {
   "cell_type": "code",
   "execution_count": 12,
   "metadata": {},
   "outputs": [
    {
     "name": "stdout",
     "output_type": "stream",
     "text": [
      "---旺旺---\n",
      "11\n",
      "20\n"
     ]
    }
   ],
   "source": [
    "class dog:\n",
    "    def __init__(self,high,weight): #创建对象的时候创建\n",
    "        self.high = high\n",
    "        self.weight = weight\n",
    "        \n",
    "    def bark(self):\n",
    "        print(\"---旺旺---\")\n",
    "        \n",
    "    def printInfo(self):\n",
    "        print(self.high)\n",
    "        print(self.weight)\n",
    "        \n",
    "        \n",
    "dog = dog()\n",
    "dog.bark()\n",
    "dog.printInfo()\n"
   ]
  },
  {
   "cell_type": "code",
   "execution_count": 19,
   "metadata": {},
   "outputs": [
    {
     "name": "stdout",
     "output_type": "stream",
     "text": [
      "黑色\n",
      "颜色为:黑色\n"
     ]
    }
   ],
   "source": [
    "class dog:\n",
    "    def __init__(self,color):\n",
    "        self.color = color\n",
    "        \n",
    "    def bark(self):\n",
    "        print(\"---旺旺---\")\n",
    "        \n",
    "    def printInfo(self):\n",
    "        print(\"颜色为:%s\"%(self.color))\n",
    "        \n",
    "        \n",
    "dog = dog(\"黑色\")\n",
    "\n",
    "print(dog.color)\n",
    "dog.printInfo()"
   ]
  },
  {
   "cell_type": "code",
   "execution_count": 25,
   "metadata": {},
   "outputs": [
    {
     "name": "stdout",
     "output_type": "stream",
     "text": [
      "当前颜色为:黑色\n",
      "黑色\n",
      "颜色为:黑色\n"
     ]
    }
   ],
   "source": [
    "class dog:\n",
    "    def __init__(self,color):\n",
    "        self.color = color\n",
    "        \n",
    "    def bark(self):\n",
    "        print(\"---旺旺---\")\n",
    "        \n",
    "    def printInfo(self):\n",
    "        print(\"颜色为:%s\"%(self.color))\n",
    "    \n",
    "    def __str__(self):  #获取对象描述信息的时候\n",
    "        return \"当前颜色为:\"+self.color\n",
    "        \n",
    "dog = dog(\"黑色\")\n",
    "\n",
    "print(dog)\n",
    "print(dog.color)\n",
    "dog.printInfo()"
   ]
  },
  {
   "cell_type": "code",
   "execution_count": 51,
   "metadata": {},
   "outputs": [
    {
     "name": "stdout",
     "output_type": "stream",
     "text": [
      "地瓜的生熟:生的等级为:0当前没有添加任何佐料\n",
      "地瓜的生熟:生的等级为:2当前没有添加任何佐料\n",
      "地瓜的生熟:半生不熟等级为:4佐料为:芥末酱,番茄酱\n",
      "地瓜的生熟:熟了等级为:7佐料为:芥末酱,番茄酱\n",
      "地瓜的生熟:焦了等级为:10佐料为:芥末酱,番茄酱\n"
     ]
    }
   ],
   "source": [
    "## 烤地瓜\n",
    "class SweetPotato:\n",
    "    #用来完成初始化的工作\n",
    "    def __init__(self):\n",
    "        self.cookedLevel = 0\n",
    "        self.cookedstring = \"生的\"\n",
    "        self.condiments = []\n",
    "        \n",
    "    def __str__(self):\n",
    "        msg = \"地瓜的生熟:\"+self.cookedstring\n",
    "        msg += \"等级为:\"+str(self.cookedLevel)\n",
    "        if len(self.condiments)>0:\n",
    "            msg += \"佐料为:\"\n",
    "            for temp in self.condiments:\n",
    "                msg += temp + \",\"\n",
    "            msg = msg[:-1]\n",
    "        else:\n",
    "            msg += \"当前没有添加任何佐料\"\n",
    "            \n",
    "        return msg       \n",
    "\n",
    "    \n",
    "    # 烤地瓜方法\n",
    "    def cook(self,times):\n",
    "        self.cookedLevel += times\n",
    "        if self.cookedLevel > 8:\n",
    "            self.cookedstring = \"焦了\"\n",
    "        elif self.cookedLevel > 5:\n",
    "            self.cookedstring = \"熟了\"\n",
    "        elif self.cookedLevel > 3:\n",
    "            self.cookedstring = \"半生不熟\"\n",
    "        else:\n",
    "            self.cookedstring = \"生的\"\n",
    "    # 添加佐料\n",
    "    def addCondiments(self,temp):\n",
    "        self.condiments.append(temp)\n",
    "        \n",
    "digua = SweetPotato()\n",
    "print(digua)\n",
    "\n",
    "digua.cook(2)\n",
    "print(digua)\n",
    "\n",
    "digua.addCondiments(\"芥末酱\")\n",
    "digua.cook(2)\n",
    "digua.addCondiments(\"番茄酱\")\n",
    "print(digua)\n",
    "digua.cook(3)\n",
    "print(digua)\n",
    "digua.cook(3)\n",
    "print(digua)\n"
   ]
  },
  {
   "cell_type": "markdown",
   "metadata": {},
   "source": [
    "### 存放家具"
   ]
  },
  {
   "cell_type": "code",
   "execution_count": 11,
   "metadata": {},
   "outputs": [
    {
     "name": "stdout",
     "output_type": "stream",
     "text": [
      "当前可用面积为:128\n",
      "aa 床面积:4\n",
      "bb 床面积:3\n",
      "当前可用面积为:121\n",
      "家里的物品有:aa,bb\n"
     ]
    }
   ],
   "source": [
    "class Home:\n",
    "    def __init__(self,area):\n",
    "        self.area = area\n",
    "        self.containsItem = []\n",
    "        \n",
    "        \n",
    "    def __str__(self):\n",
    "        msg = \"家当前可用面积为:\"+str(self.area)\n",
    "        \n",
    "        if len(self.containsItem)>0:\n",
    "            msg +=\"\\n\"\n",
    "            msg +=\"家里的物品有:\"\n",
    "        \n",
    "            for temp in self.containsItem:\n",
    "                msg += temp.name +\",\"\n",
    "            msg = msg[:-1]\n",
    "        \n",
    "        return msg\n",
    "    \n",
    "    #添加一个新物品\n",
    "    def addItems(self,item):\n",
    "        if self.area > item.area:\n",
    "            self.containsItem.append(item)\n",
    "            self.area -= item.area\n",
    "        \n",
    "class Bed:\n",
    "    def __init__(self,name,area):\n",
    "        self.name = name\n",
    "        self.area = area\n",
    "    \n",
    "    def __str__(self):\n",
    "        msg = self.name + \" 床面积:\"+str(self.area)\n",
    "        return msg\n",
    "\n",
    "home = Home(128)\n",
    "print(home)\n",
    "\n",
    "bed = Bed(\"aa\",4)\n",
    "print(bed)\n",
    "\n",
    "bed2 = Bed(\"bb\",3)\n",
    "print(bed2)\n",
    "\n",
    "home.addItems(bed)\n",
    "home.addItems(bed2)\n",
    "\n",
    "print(home)"
   ]
  },
  {
   "cell_type": "code",
   "execution_count": 15,
   "metadata": {},
   "outputs": [
    {
     "name": "stdout",
     "output_type": "stream",
     "text": [
      "家当前可用面积为:128\n",
      "aa 床面积:4当前的可见度为：on\n",
      "bb 床面积:3当前的可见度为：on\n",
      "家当前可用面积为:121\n",
      "家里的物品有:aa,bb\t当前灯是开着，所有物品可见\n",
      "====================\n",
      "aa 床面积:4当前的可见度为：off\n",
      "bb 床面积:3当前的可见度为：off\n"
     ]
    }
   ],
   "source": [
    "class Home:\n",
    "    def __init__(self,area):\n",
    "        self.area = area\n",
    "        self.light = \"on\"\n",
    "        self.containsItem = []        \n",
    "        \n",
    "    def __str__(self):\n",
    "        msg = \"家当前可用面积为:\"+str(self.area)\n",
    "        \n",
    "        if len(self.containsItem)>0:\n",
    "            msg +=\"\\n\"\n",
    "            msg +=\"家里的物品有:\"\n",
    "        \n",
    "            for temp in self.containsItem:\n",
    "                msg += temp.name +\",\"\n",
    "            msg = msg[:-1]\n",
    "            \n",
    "            if self.light ==\"on\":\n",
    "                msg += \"\\t\" +\"当前灯是开着，所有物品可见\"\n",
    "            else:\n",
    "                 msg += \"\\t\" +\"当前灯是关着，所有物品不可见\"\n",
    "        \n",
    "        return msg\n",
    "    \n",
    "    #添加一个新物品\n",
    "    def addItems(self,item):\n",
    "        if self.area > item.area:\n",
    "            self.containsItem.append(item)\n",
    "            self.area -= item.area\n",
    "    \n",
    "    def turnoff(self):\n",
    "        self.light = \"off\"\n",
    "        #修改所有物品可见度\n",
    "        for temp in self.containsItem:\n",
    "            temp.turnoff()\n",
    " \n",
    "        \n",
    "class Bed:\n",
    "    def __init__(self,name,area):\n",
    "        self.name = name\n",
    "        self.light = \"on\"\n",
    "        self.area = area\n",
    "    \n",
    "    def __str__(self):\n",
    "        msg = self.name + \" 床面积:\"+str(self.area)+\"当前的可见度为：\"+self.light\n",
    "        return msg\n",
    "    \n",
    "    def turnoff(self):\n",
    "        self.light = \"off\"\n",
    "        \n",
    "\n",
    "home = Home(128)\n",
    "print(home)\n",
    "\n",
    "bed = Bed(\"aa\",4)\n",
    "print(bed)\n",
    "\n",
    "bed2 = Bed(\"bb\",3)\n",
    "print(bed2)\n",
    "\n",
    "home.addItems(bed)\n",
    "home.addItems(bed2)\n",
    "\n",
    "print(home)\n",
    "\n",
    "print(\"====================\")\n",
    "\n",
    "home.turnoff()\n",
    "print(bed)\n",
    "print(bed2)"
   ]
  },
  {
   "cell_type": "markdown",
   "metadata": {},
   "source": [
    "#### 小游戏-->老王开枪"
   ]
  },
  {
   "cell_type": "code",
   "execution_count": 1,
   "metadata": {},
   "outputs": [
    {
     "name": "stdout",
     "output_type": "stream",
     "text": [
      "当前子弹数量为:0/20\n",
      "当前子弹数量为:5/20\n"
     ]
    }
   ],
   "source": [
    "#老王往弹夹里面压子弹，定义人的血量\n",
    "\n",
    "class Ren:\n",
    "    def __init__(self,name):\n",
    "        self.xue = 100\n",
    "        self.name = name\n",
    "    \n",
    "    def anzidan(self,danjia,zidan):\n",
    "        danjia.baocunzidan(zidan)\n",
    "\n",
    "class Danjia:\n",
    "    def __init__(self,rongliang):\n",
    "        self.rongliang = rongliang\n",
    "        self.rongnaList = []\n",
    "    \n",
    "    def __str__(self):\n",
    "        return \"当前子弹数量为:\"+str(len(self.rongnaList)) +\"/\"+str(self.rongliang)\n",
    "        \n",
    "    def baocunzidan(self,zidan):\n",
    "        if len(self.rongnaList) < self.rongliang:\n",
    "            self.rongnaList.append(zidan)\n",
    "            \n",
    "\n",
    "class Zidan:\n",
    "    pass\n",
    "\n",
    "class Qiang:\n",
    "    pass\n",
    "\n",
    "laowang = Ren(\"老王\")\n",
    "danjia = Danjia(20)\n",
    "print(danjia)\n",
    "\n",
    "\n",
    "i = 0\n",
    "while i<5:   \n",
    "    zidan = Zidan()\n",
    "    laowang.anzidan(danjia,zidan)\n",
    "    i += 1\n",
    "\n",
    "print(danjia)"
   ]
  },
  {
   "cell_type": "code",
   "execution_count": 7,
   "metadata": {},
   "outputs": [
    {
     "name": "stdout",
     "output_type": "stream",
     "text": [
      "当前子弹数量为:0/20\n",
      "当前子弹数量为:5/20\n",
      "强没有弹夹\n",
      "抢当前有弹夹\n"
     ]
    }
   ],
   "source": [
    "#老王往抢里安弹夹\n",
    "\n",
    "class Ren:\n",
    "    def __init__(self,name):\n",
    "        self.xue = 100\n",
    "        self.name = name\n",
    "    \n",
    "    def anzidan(self,danjia,zidan):\n",
    "        danjia.baocunzidan(zidan)\n",
    "        \n",
    "    def andanjia(self,qiang,danjia):\n",
    "        qiang.lianjiedanjia(danjia)\n",
    "\n",
    "class Danjia:\n",
    "    def __init__(self,rongliang):\n",
    "        self.rongliang = rongliang\n",
    "        self.rongnaList = []\n",
    "    \n",
    "    def __str__(self):\n",
    "        return \"当前子弹数量为:\"+str(len(self.rongnaList)) +\"/\"+str(self.rongliang)\n",
    "        \n",
    "    def baocunzidan(self,zidan):\n",
    "        if len(self.rongnaList) < self.rongliang:\n",
    "            self.rongnaList.append(zidan)\n",
    "            \n",
    "\n",
    "class Zidan:\n",
    "    pass\n",
    "\n",
    "class Qiang:\n",
    "    def __init__(self):\n",
    "        self.danjia = None\n",
    "    \n",
    "    def __str__(self):\n",
    "        if self.danjia:\n",
    "            return \"抢当前有弹夹\"\n",
    "        else:\n",
    "            return \"强没有弹夹\"\n",
    "        \n",
    "    def lianjiedanjia(self,danjia):\n",
    "        if not self.danjia:\n",
    "            self.danjia = danjia\n",
    "\n",
    "laowang = Ren(\"老王\")\n",
    "danjia = Danjia(20)\n",
    "print(danjia)\n",
    "\n",
    "\n",
    "i = 0\n",
    "while i<5:   \n",
    "    zidan = Zidan()\n",
    "    laowang.anzidan(danjia,zidan)\n",
    "    i += 1\n",
    "\n",
    "print(danjia)\n",
    "\n",
    "qiang = Qiang()\n",
    "print(qiang)\n",
    "\n",
    "laowang.andanjia(qiang,danjia)\n",
    "\n",
    "print(qiang)"
   ]
  },
  {
   "cell_type": "code",
   "execution_count": 15,
   "metadata": {},
   "outputs": [
    {
     "name": "stdout",
     "output_type": "stream",
     "text": [
      "当前子弹数量为:0/20\n",
      "当前子弹数量为:5/20\n",
      "强没有弹夹\n",
      "抢当前有弹夹\n",
      "敌人剩余血量100\n",
      "当前子弹数量为:5/20\n",
      "敌人剩余血量95\n",
      "当前子弹数量为:4/20\n"
     ]
    }
   ],
   "source": [
    "#创建敌人\n",
    "\n",
    "class Ren:\n",
    "    def __init__(self,name):\n",
    "        self.xue = 100\n",
    "        self.name = name\n",
    "        self.qiang = None\n",
    "        \n",
    "    def __str__(self):\n",
    "        return self.name +\"剩余血量\"+str(self.xue)\n",
    "    \n",
    "    def anzidan(self,danjia,zidan):\n",
    "        danjia.baocunzidan(zidan)\n",
    "        \n",
    "    def andanjia(self,qiang,danjia):\n",
    "        qiang.lianjiedanjia(danjia)\n",
    "        \n",
    "    def naqiang(self,qiang):\n",
    "        self.qiang = qiang\n",
    "        \n",
    "    def kaiqiang(self,diren):\n",
    "        self.qiang.she(diren)\n",
    "        \n",
    "    def diaoxue(self,shashangli):\n",
    "        self.xue -= shashangli\n",
    "        \n",
    "    \n",
    "\n",
    "class Danjia:\n",
    "    def __init__(self,rongliang):\n",
    "        self.rongliang = rongliang\n",
    "        self.rongnaList = []\n",
    "    \n",
    "    def __str__(self):\n",
    "        return \"当前子弹数量为:\"+str(len(self.rongnaList)) +\"/\"+str(self.rongliang)\n",
    "        \n",
    "    def baocunzidan(self,zidan):\n",
    "        if len(self.rongnaList) < self.rongliang:\n",
    "            self.rongnaList.append(zidan)\n",
    "    \n",
    "    def chuzidan(self):\n",
    "        #判断弹夹是否还有子弹\n",
    "        if len(self.rongnaList) > 0:\n",
    "            zidan = self.rongnaList[-1]\n",
    "            self.rongnaList.pop()\n",
    "            return zidan\n",
    "        else:\n",
    "            return None\n",
    "\n",
    "class Zidan:\n",
    "    def __init__(self,shashangli):\n",
    "        self.shashangli = shashangli\n",
    "        \n",
    "    def shanghai(self,diren):\n",
    "        diren.diaoxue(self.shashangli)\n",
    "\n",
    "class Qiang:\n",
    "    def __init__(self):\n",
    "        self.danjia = None\n",
    "    \n",
    "    def __str__(self):\n",
    "        if self.danjia:\n",
    "            return \"抢当前有弹夹\"\n",
    "        else:\n",
    "            return \"强没有弹夹\"\n",
    "        \n",
    "    def lianjiedanjia(self,danjia):\n",
    "        if not self.danjia:\n",
    "            self.danjia = danjia\n",
    "            \n",
    "    def she(self,diren):\n",
    "        zidan = self.danjia.chuzidan()\n",
    "        if zidan:\n",
    "            zidan.shanghai(diren)\n",
    "        else:\n",
    "            print(\"没有子弹\")\n",
    "\n",
    "laowang = Ren(\"老王\")\n",
    "danjia = Danjia(20)\n",
    "print(danjia)\n",
    "\n",
    "\n",
    "i = 0\n",
    "while i<5:   \n",
    "    zidan = Zidan(5)\n",
    "    laowang.anzidan(danjia,zidan)\n",
    "    i += 1\n",
    "\n",
    "print(danjia)\n",
    "\n",
    "qiang = Qiang()\n",
    "print(qiang)\n",
    "\n",
    "laowang.andanjia(qiang,danjia)\n",
    "\n",
    "print(qiang)\n",
    "\n",
    "#创建敌人\n",
    "diren  = Ren(\"敌人\")\n",
    "print(diren)\n",
    "print(danjia)\n",
    "laowang.naqiang(qiang)\n",
    "laowang.kaiqiang(diren)\n",
    "print(diren)\n",
    "print(danjia)\n"
   ]
  },
  {
   "cell_type": "markdown",
   "metadata": {},
   "source": [
    "#### 以下暂时可以不学习"
   ]
  },
  {
   "cell_type": "code",
   "execution_count": 30,
   "metadata": {},
   "outputs": [
    {
     "name": "stdout",
     "output_type": "stream",
     "text": [
      "31\n"
     ]
    }
   ],
   "source": [
    "## 私有属性\n",
    "\n",
    "class Person:\n",
    "    def __init__(self,name,age):\n",
    "        #只要属性名前面有两个下划线就表示私有，表示私有属性 不能使用对象名.属性名获取\n",
    "        #没有添加__属于公有\n",
    "        self.__name = name\n",
    "        self.__age = age\n",
    "        \n",
    "    def setNewAge(self,newAge):\n",
    "        if newAge>0 and newAge <= 100:\n",
    "            self.__age = newAge\n",
    "            \n",
    "    def getAge(self):\n",
    "        return self.__age\n",
    "    \n",
    "    def __test(self):\n",
    "        print(\"---test---\")\n",
    "        \n",
    "    def test2(self):\n",
    "        self.__test()\n",
    "        print(\"---test2---\")\n",
    "\n",
    "laowang = Person(\"老王\",30)\n",
    "\n",
    "# laowang.__test()\n",
    "\n",
    "laowang.setNewAge(31)\n",
    "age = laowang.getAge()\n",
    "print(age)"
   ]
  },
  {
   "cell_type": "code",
   "execution_count": 40,
   "metadata": {},
   "outputs": [
    {
     "name": "stdout",
     "output_type": "stream",
     "text": [
      "---del---\n",
      "---1---\n"
     ]
    }
   ],
   "source": [
    "## __del__()方法 -->删除对象\n",
    "class Person():\n",
    "    def __init__(self,name,age):\n",
    "        #只要属性名前面有两个下划线就表示私有，表示私有属性 不能使用对象名.属性名获取\n",
    "        #没有添加__属于公有\n",
    "        self.__name = name\n",
    "        self.__age = age\n",
    "        \n",
    "    def __del__(self):\n",
    "        print(\"---del---\")\n",
    "    \n",
    "laowang = Person(\"老王\",12)\n",
    "del laowang\n",
    "# del laowang\n",
    "print(\"---1---\")\n"
   ]
  },
  {
   "cell_type": "markdown",
   "metadata": {},
   "source": [
    "#### 继承"
   ]
  },
  {
   "cell_type": "code",
   "execution_count": 45,
   "metadata": {},
   "outputs": [
    {
     "name": "stdout",
     "output_type": "stream",
     "text": [
      "bs的名字为:印度猫\n",
      "bs的名字为:白色\n",
      "印度猫--在吃\n",
      "印度猫--在跑\n",
      "印度猫 白色\n"
     ]
    }
   ],
   "source": [
    "## 定义一个父类\n",
    "\n",
    "class Cat(object):\n",
    "    \n",
    "    def __init__(self,name,color=\"白色\"):\n",
    "        self.name = name\n",
    "        self.color = color\n",
    "        \n",
    "    def run(self):\n",
    "        print(\"%s--在跑\"%self.name)\n",
    "        \n",
    "    def __str__(self):\n",
    "        return self.name + \" \" +self.color\n",
    "        \n",
    "## 定义一个子类\n",
    "class Bosi(Cat):\n",
    "    \n",
    "    def setNewName(self,newName):\n",
    "        self.name = newName\n",
    "        \n",
    "    def eat(self):\n",
    "        print(\"%s--在吃\"%self.name)\n",
    "        \n",
    "bs = Bosi(\"印度猫\")\n",
    "print('bs的名字为:%s'%bs.name)\n",
    "print('bs的名字为:%s'%bs.color)\n",
    "\n",
    "bs.eat()\n",
    "bs.run()\n",
    "print(bs) \n"
   ]
  },
  {
   "cell_type": "code",
   "execution_count": 48,
   "metadata": {},
   "outputs": [
    {
     "name": "stdout",
     "output_type": "stream",
     "text": [
      "---跑---\n"
     ]
    },
    {
     "ename": "AttributeError",
     "evalue": "'Bosi' object has no attribute '_Bosi__test'",
     "output_type": "error",
     "traceback": [
      "\u001b[1;31m---------------------------------------------------------------------------\u001b[0m",
      "\u001b[1;31mAttributeError\u001b[0m                            Traceback (most recent call last)",
      "\u001b[1;32m<ipython-input-48-365523dc29f1>\u001b[0m in \u001b[0;36m<module>\u001b[1;34m()\u001b[0m\n\u001b[0;32m     20\u001b[0m \u001b[0mbosi\u001b[0m \u001b[1;33m=\u001b[0m \u001b[0mBosi\u001b[0m\u001b[1;33m(\u001b[0m\u001b[1;33m)\u001b[0m\u001b[1;33m\u001b[0m\u001b[0m\n\u001b[0;32m     21\u001b[0m \u001b[0mbosi\u001b[0m\u001b[1;33m.\u001b[0m\u001b[0mrun\u001b[0m\u001b[1;33m(\u001b[0m\u001b[1;33m)\u001b[0m\u001b[1;33m\u001b[0m\u001b[0m\n\u001b[1;32m---> 22\u001b[1;33m \u001b[0mbosi\u001b[0m\u001b[1;33m.\u001b[0m\u001b[0mtest\u001b[0m\u001b[1;33m(\u001b[0m\u001b[1;33m)\u001b[0m\u001b[1;33m\u001b[0m\u001b[0m\n\u001b[0m",
      "\u001b[1;32m<ipython-input-48-365523dc29f1>\u001b[0m in \u001b[0;36mtest\u001b[1;34m(self)\u001b[0m\n\u001b[0;32m     12\u001b[0m \u001b[1;33m\u001b[0m\u001b[0m\n\u001b[0;32m     13\u001b[0m     \u001b[1;32mdef\u001b[0m \u001b[0mtest\u001b[0m\u001b[1;33m(\u001b[0m\u001b[0mself\u001b[0m\u001b[1;33m)\u001b[0m\u001b[1;33m:\u001b[0m\u001b[1;33m\u001b[0m\u001b[0m\n\u001b[1;32m---> 14\u001b[1;33m         \u001b[0mself\u001b[0m\u001b[1;33m.\u001b[0m\u001b[0m__test\u001b[0m\u001b[1;33m(\u001b[0m\u001b[1;33m)\u001b[0m\u001b[1;33m\u001b[0m\u001b[0m\n\u001b[0m\u001b[0;32m     15\u001b[0m         \u001b[0mprint\u001b[0m\u001b[1;33m(\u001b[0m\u001b[0mself\u001b[0m\u001b[1;33m.\u001b[0m\u001b[0m__name\u001b[0m\u001b[1;33m)\u001b[0m\u001b[1;33m\u001b[0m\u001b[0m\n\u001b[0;32m     16\u001b[0m \u001b[1;33m\u001b[0m\u001b[0m\n",
      "\u001b[1;31mAttributeError\u001b[0m: 'Bosi' object has no attribute '_Bosi__test'"
     ]
    }
   ],
   "source": [
    "## 如果父类是私有方法，子类继承后也不可以使用\n",
    "class Cat(object):\n",
    "    def __init__(self):\n",
    "        self.__name = \"abc\"\n",
    "    \n",
    "    def run(self):\n",
    "        print(\"---跑---\")\n",
    "        \n",
    "    def __test(self):\n",
    "        print(\"---Cat test---\")\n",
    "        \n",
    "class Bosi(Cat):\n",
    "    \n",
    "    def test(self):\n",
    "        self.__test()\n",
    "        print(self.__name)\n",
    "        \n",
    "class Jiafei(Cat):\n",
    "    pass\n",
    "\n",
    "bosi = Bosi()\n",
    "bosi.run()\n",
    "bosi.test()"
   ]
  },
  {
   "cell_type": "code",
   "execution_count": 50,
   "metadata": {},
   "outputs": [
    {
     "name": "stdout",
     "output_type": "stream",
     "text": [
      "---100km/s---跑--\n",
      "---托东西---\n",
      "--马在叫---\n"
     ]
    }
   ],
   "source": [
    "class Ma(object):\n",
    "    def pao(self):\n",
    "        print(\"---100km/s---跑--\")\n",
    "    def jiao(self):\n",
    "        print(\"--马在叫---\")\n",
    "        \n",
    "class Lv(object):\n",
    "    def tuowupin(self):\n",
    "        print(\"---托东西---\")\n",
    "        \n",
    "    def jiao(self):\n",
    "        print(\"---驴在叫---\")\n",
    "        \n",
    "class Luozi(Ma,Lv):\n",
    "    pass\n",
    "\n",
    "luozi = Luozi()\n",
    "luozi.pao()\n",
    "luozi.tuowupin()\n",
    "\n",
    "luozi.jiao() ##为什么马在叫？？"
   ]
  },
  {
   "cell_type": "code",
   "execution_count": 52,
   "metadata": {},
   "outputs": [
    {
     "name": "stdout",
     "output_type": "stream",
     "text": [
      "---100km/s---跑--\n",
      "---托东西---\n",
      "---驴在叫---\n"
     ]
    }
   ],
   "source": [
    "## mro特殊算法，可以百度了解一下\n",
    "\n",
    "class Ma(object):\n",
    "    def pao(self):\n",
    "        print(\"---100km/s---跑--\")\n",
    "    def jiao(self):\n",
    "        print(\"--马在叫---\")\n",
    "        \n",
    "class Lv(object):\n",
    "    def tuowupin(self):\n",
    "        print(\"---托东西---\")\n",
    "        \n",
    "    def jiao(self):\n",
    "        print(\"---驴在叫---\")\n",
    "        \n",
    "class Luozi(Ma,Lv):\n",
    "    \n",
    "    def jiao(self):\n",
    "        print(\"---驴在叫---\")\n",
    "\n",
    "\n",
    "luozi = Luozi()\n",
    "luozi.pao()\n",
    "luozi.tuowupin()\n",
    "\n",
    "luozi.jiao()"
   ]
  },
  {
   "cell_type": "code",
   "execution_count": null,
   "metadata": {},
   "outputs": [],
   "source": []
  },
  {
   "cell_type": "code",
   "execution_count": null,
   "metadata": {},
   "outputs": [],
   "source": []
  },
  {
   "cell_type": "code",
   "execution_count": null,
   "metadata": {},
   "outputs": [],
   "source": []
  },
  {
   "cell_type": "code",
   "execution_count": null,
   "metadata": {},
   "outputs": [],
   "source": []
  },
  {
   "cell_type": "code",
   "execution_count": null,
   "metadata": {},
   "outputs": [],
   "source": []
  },
  {
   "cell_type": "code",
   "execution_count": null,
   "metadata": {},
   "outputs": [],
   "source": []
  },
  {
   "cell_type": "code",
   "execution_count": null,
   "metadata": {},
   "outputs": [],
   "source": []
  }
 ],
 "metadata": {
  "kernelspec": {
   "display_name": "Python 3",
   "language": "python",
   "name": "python3"
  },
  "language_info": {
   "codemirror_mode": {
    "name": "ipython",
    "version": 3
   },
   "file_extension": ".py",
   "mimetype": "text/x-python",
   "name": "python",
   "nbconvert_exporter": "python",
   "pygments_lexer": "ipython3",
   "version": "3.6.5"
  }
 },
 "nbformat": 4,
 "nbformat_minor": 2
}
