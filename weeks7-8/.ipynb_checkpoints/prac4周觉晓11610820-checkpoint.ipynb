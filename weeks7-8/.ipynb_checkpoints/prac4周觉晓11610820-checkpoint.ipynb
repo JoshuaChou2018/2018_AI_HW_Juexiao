{
 "cells": [
  {
   "cell_type": "markdown",
   "metadata": {},
   "source": [
    "# Introduction to Artificial Intelligence for Non Computing"
   ]
  },
  {
   "cell_type": "markdown",
   "metadata": {},
   "source": [
    "## Practical 4 (weeks 7 - 8)"
   ]
  },
  {
   "cell_type": "markdown",
   "metadata": {},
   "source": [
    "#### Theory Questions"
   ]
  },
  {
   "cell_type": "markdown",
   "metadata": {},
   "source": [
    "1\\.Symbolize the following proposition and discuss the truth.\n",
    "1. Everyone has black hair.\n",
    "2. Some people boarded the moon.\n",
    "3. No one has boarded Jupiter\n",
    "4. Students studying in the US are not necessarily Asians."
   ]
  },
  {
   "cell_type": "markdown",
   "metadata": {},
   "source": [
    "_your answer here..._ \n",
    "\n",
    "***\n",
    "1. P(x)⇒BH(x), P(x) means x is a human, BH(x) means x has black hair, False\n",
    "2. ∃x(P(x)⇒BM(x)), ∃x means there is someone x can satisfy P(x) (x is a human) and BM(x) (boarded the moon), True\n",
    "3. ￢x(P(x)∧BJ(x)), ￢x means no people can satisfy P(x) (x is a human) and BJ(x) (boarded the jupiter), True\n",
    "4. ∃x(SU(x)!⇒A(x)), ∃x means there is someone x can satisfy SU(x) (x studying in US) but not A(x) (x is Asian), True"
   ]
  },
  {
   "cell_type": "markdown",
   "metadata": {},
   "source": [
    "2\\.Judge the following formula, which is tautology? What is the contradiction?\n",
    "1. ∀xF(x)⇒(∃x∃yG(x,y))⇒∀xF(x))\n",
    "2. ￢( ∀xF(x)⇒∃yG(y))∧∃yG(y)\n",
    "3. ∀x(F(x)⇒G(y))"
   ]
  },
  {
   "cell_type": "markdown",
   "metadata": {},
   "source": [
    "_your answer here..._ \n",
    "\n",
    "***\n",
    "1. tautology\n",
    "2. contradiction\n",
    "3. neither tautology nor contradiction"
   ]
  },
  {
   "cell_type": "markdown",
   "metadata": {},
   "source": [
    "3\\.Which of the following are correct?\n",
    "1. False |=True.\n",
    "2. (A ∧ B) |= (A ⇔ B).\n",
    "3. (A ∧ B) ⇒ C |= (A ⇒ C) ∨ (B ⇒ C).\n",
    "4. (A ∨ B) ∧ (￢C ∨￢D ∨ E) |= (A ∨ B).\n",
    "5. (A ∨ B) ∧ (￢C ∨￢D ∨ E) |= (A ∨ B) ∧ (￢D ∨ E)."
   ]
  },
  {
   "cell_type": "markdown",
   "metadata": {},
   "source": [
    "_your answer here..._ \n",
    "\n",
    "***\n",
    "1. False\n",
    "2. True\n",
    "3. True\n",
    "4. True\n",
    "5. False"
   ]
  },
  {
   "cell_type": "markdown",
   "metadata": {},
   "source": [
    "4\\.Conjunctive normal form.link:https://baike.baidu.com/item/%E5%90%88%E5%8F%96%E8%8C%83%E5%BC%8F/2459360\n",
    "1. Obtaining conjunctive paradigm: P∧(Q⇒R)⇒S\n",
    "#### Basic steps to find a conjunctive normal form.\n",
    "1. Cut redundant connectives，Reserved {∨，∧，￢}\n",
    "2. Move or remove the negation ~\n",
    "3. distribution rates"
   ]
  },
  {
   "cell_type": "markdown",
   "metadata": {},
   "source": [
    "(￢P∨S∨Q)∧(￢P∨S∨￢R)"
   ]
  },
  {
   "cell_type": "markdown",
   "metadata": {},
   "source": [
    "5\\.Arithmetic assertions can be written in first-order logic with the predicate symbol <,the function symbols + and ×, and the constant symbols 0 and 1. Additional   predicates can also be defined with biconditionals.(Chapter 8.20)\n",
    "1. Represent the property “x is an even number.”\n",
    "2. Represent the property “x is prime.”\n",
    "3. Goldbach’s conjecture is the conjecture (unproven as yet) that every even number is equal to the sum of two primes. Represent this conjecture as a logical sentence.\n"
   ]
  },
  {
   "cell_type": "markdown",
   "metadata": {},
   "source": [
    "1.∀xEven(x)⇔∃y⇒x=y+y\n",
    "2.∀xPrime(x)⇔∀y,z⇒x=y×z⇒y=1∨z=1\n",
    "3.∀xEven(x)⇒∃y,z⇒Prime(y)∧Prime(z)∧x=y+z"
   ]
  },
  {
   "cell_type": "markdown",
   "metadata": {},
   "source": [
    "### Programming Excercises"
   ]
  },
  {
   "cell_type": "markdown",
   "metadata": {},
   "source": [
    "1. Take the multiagent folder from assignment 2 and copy into a new directory for this practical. We will implement a version of minimax for Ghost Agents to make very smart ghosts.\n",
    "\n",
    "First look at the file ghostAgents.py. Try to play classic pacman against the directional ghost and the random ghost. Use the following option:\n",
    "\n",
    "\n",
    "-g TYPE, --ghosts=TYPE\n",
    "                        the ghost agent TYPE in the ghostAgents module to use\n",
    "                        [Default: RandomGhost]\n",
    "\n",
    "Now implement a new ghost agent called MinimaxGhost. You will need to create a new class and methods in the file ghostAgent (you can ask the tutor if you need help to create the method stub).\n",
    "\n",
    "\n",
    "This will involve implementing the following methods:\n",
    "\n",
    "---\n",
    "<code>\n",
    "class MinmaxGhost ( GhostAgent ):\n",
    "\n",
    "    def __init__( self, index, ...):\n",
    "\t\t...\n",
    "\t\t\n",
    "\t\t\n",
    "\tdef getAction(self, state):\n",
    "\t\t...\n",
    "\n",
    "\tdef getDistribution(self, state):\n",
    "\t\t...\n",
    "</code>\n",
    "---\t\t\n",
    "\n",
    "\n",
    "To test whether or not you have implemented correctly you will need to compare the behaviour of your new ghost agent with the random ghost agent. This has to be done over multiple tests (e.g. 10 runs).\n",
    "\n",
    "- You can turn off the graphical display to use options -t or -q\n",
    "- You can perform multiple runs (e.g. 10) by setting the -numGames=10\n",
    "- You can fix the random seed as well.\n",
    "\n",
    "Try to use different layouts to test. A simple layout might be good for testing initially as you are developing your algorithm. New layout files can be created in the layout directory (must be saved with end of file name \".lay\"). For example:\n",
    "smallClassic.lay\n",
    "<code>\n",
    "%%%%%%%%%%%%%%%%%%%%\n",
    "%......%G  G%......%\n",
    "%.%%...%%  %%...%%.%\n",
    "%.%o.%........%.o%.%\n",
    "%.%%.%.%%%%%%.%.%%.%\n",
    "%........P.........%\n",
    "%%%%%%%%%%%%%%%%%%%%\n",
    "</code>\n",
    "newLayout.lay:\n",
    "<code>\n",
    "%%%%%%%\n",
    "% %G% %\n",
    "% % % %\n",
    "% % % %\n",
    "%%%P%%%\n",
    "%     %\n",
    "% %%% %\n",
    "% % % %\n",
    "% % % %\n",
    "% %%% %\n",
    "%  .  %\n",
    "%%%G%%%\n",
    "%%%%%%%\n",
    "</code>\n",
    "\n",
    "Please try to make some different layouts such as in this example,(the ghosts are marked by G, walls by % and pacman starting position by P,\".\" for pellet)\n",
    "<div style=\"float:center;\" ><img src=\"img/p2.png\" width=\"200\" height=\"50\" ></div>\n",
    "\n",
    "---\n",
    "\n",
    "2\\. \n",
    "In this question we will test the new ghostAgent with different pacman agents. In your assignment you were asked to complete a Minimax pacman a version of Expectimax for pacman was provided. If you have not completed the assignment just use the provided expectimax version.\n",
    "\n",
    "We will perform some experiments to compare the performance of pacman against different types of ghost agent:\n",
    "- a random (not smart) ghost vs a pacman that assumes optimal play from ghosts (ie minimax pacman).\n",
    "- a smart (minmax) ghost vs a pacman that assumes optimal play from ghosts\n",
    "- random ghosts vs pacman that assumes ghosts may not always do an optimal move\n",
    "- smart (minimax) ghosts vs pacman that assumes that ghosts may do suboptimal moves.\n",
    "\n",
    "\n",
    "This will result in a table similar to the following:\n",
    "\n",
    "<div style=\"float:center;\" ><img src=\"img/p1.png\" width=\"400\" height=\"300\" ></div>\n",
    "\n",
    "\n",
    "   \n",
    "3\\.\n",
    "Describe the performance (in terms of the distribution) of Pacman in each case.\n",
    "\n",
    "In which cases is the Pacman agent implementing the correct assumption of the ghosts behaviour?\n",
    "\n",
    "\n",
    "4\\. Describe why the ghosts seem as if they are cooperating when using minimax even though they are not sharing information with each other.\n",
    "\n",
    "\n",
    "\n",
    "\n",
    "\n"
   ]
  },
  {
   "cell_type": "code",
   "execution_count": null,
   "metadata": {},
   "outputs": [],
   "source": [
    "class MinimaxGhost(GhostAgent):\n",
    "\n",
    "    \"\"\"\n",
    "      Your minimax agent (question 1)\n",
    "\n",
    "      useage: python2 pacman.py -p ExpectimaxAgent -l smallClassic -g MinimaxGhost -a depth=4\n",
    "              python2 pacman.py -l smallClassic -g MinimaxGhost\n",
    "\n",
    "    \"\"\"\n",
    "    \"*** YOUR CODE HERE ***\"\n",
    "    def __init__(self, index, depth = '2'):\n",
    "        self.index = index # Ghosts are always agent index > 0\n",
    "        self.depth = int(depth)\n",
    "\n",
    "    def betterEvaluationFunctionGhost(self,currentGameState):\n",
    "        pacman_position=currentGameState.getPacmanPosition()\n",
    "        ghost_postition=currentGameState.getGhostPosition(self.index)\n",
    "        print(ghost_postition)\n",
    "        return manhattanDistance(pacman_position,ghost_postition)\n",
    "\n",
    "    def getAction(self, gameState):\n",
    "        startlayer=1\n",
    "        startagent=self.index #Pacman\n",
    "        # start from the first layer and then traverse all agent\n",
    "        move=self.MinimaxEvaluationFunction(gameState,startlayer,startagent)\n",
    "        return move\n",
    "\n",
    "    def MinimaxChoose(self,layer,agentindex,scores,legalMoves):\n",
    "        if agentindex!=self.index: #not ghost and not the first layer\n",
    "            return max(scores)\n",
    "        elif (layer!=1)&(agentindex==self.index): #is ghost but not in the first layer\n",
    "            return min(scores)\n",
    "        else: #ghost in the first layer\n",
    "            bestIndices=[]\n",
    "            for index in range(len(scores)):\n",
    "                if scores[index]==min(scores):\n",
    "                    bestIndices.append(index)\n",
    "            chosenIndex=random.choice(bestIndices)\n",
    "            return legalMoves[chosenIndex]\n",
    "\n",
    "    def MinimaxEvaluationFunction(self,gameState,layer,agentindex):\n",
    "        if (gameState.isLose())|(gameState.isWin()):\n",
    "            return self.betterEvaluationFunctionGhost(gameState)\n",
    "        if layer>self.depth:\n",
    "            return self.betterEvaluationFunctionGhost(gameState)\n",
    "        legalMoves=[]\n",
    "        for x in gameState.getLegalActions(agentindex):\n",
    "            legalMoves.append(x)\n",
    "        agentnumber=gameState.getNumAgents()\n",
    "        if agentindex==0:\n",
    "            scores=[]\n",
    "            for x in legalMoves:\n",
    "                scores.append(self.MinimaxEvaluationFunction(gameState.generateSuccessor(agentindex,x),layer+1,self.index))\n",
    "            return self.MinimaxChoose(layer,agentindex,scores,legalMoves)\n",
    "        else:\n",
    "            scores=[]\n",
    "            for x in legalMoves:\n",
    "                scores.append(self.MinimaxEvaluationFunction(gameState.generateSuccessor(agentindex,x),layer,0))\n",
    "            return self.MinimaxChoose(layer,agentindex,scores,legalMoves)"
   ]
  },
  {
   "cell_type": "code",
   "execution_count": null,
   "metadata": {},
   "outputs": [],
   "source": [
    "#Question 1.2\n",
    "#New.lay\n",
    "%%%%%%%%%%%%%%%%%%%%%%%%%%%%%%%%%%%%%%\n",
    "%.......G  G.........%%%%%%%.........%\n",
    "%.%%...%%  %%.....%%......%%.%%%.%%%.%\n",
    "%.%o.%........%.o%....%%.....%....%%.%\n",
    "%.%%.%.%%..%%.%...%%......%%.%%%.%%%.%\n",
    "%........P...........%%%%%%%.........%\n",
    "%%%%%%%%%%%%%%%%%%%%%%%%%%%%%%%%%%%%%%"
   ]
  },
  {
   "cell_type": "code",
   "execution_count": null,
   "metadata": {},
   "outputs": [],
   "source": [
    "#Question 3\n",
    "MiniMax pacman vs. Adversarial ghost"
   ]
  },
  {
   "cell_type": "code",
   "execution_count": null,
   "metadata": {},
   "outputs": [],
   "source": [
    "#Question 4\n",
    "Because each movement of one ghost will affect the Minimax tree of another ghost and further affecting its movement.\n",
    "Therefore, ghosts seem as if they are cooperating when hunting a pacman with Minimax Ghost agent."
   ]
  }
 ],
 "metadata": {
  "kernelspec": {
   "display_name": "Python 3",
   "language": "python",
   "name": "python3"
  },
  "language_info": {
   "codemirror_mode": {
    "name": "ipython",
    "version": 3
   },
   "file_extension": ".py",
   "mimetype": "text/x-python",
   "name": "python",
   "nbconvert_exporter": "python",
   "pygments_lexer": "ipython3",
   "version": "3.6.5"
  }
 },
 "nbformat": 4,
 "nbformat_minor": 2
}
