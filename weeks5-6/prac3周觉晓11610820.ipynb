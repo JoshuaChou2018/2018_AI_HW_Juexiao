{
 "cells": [
  {
   "cell_type": "markdown",
   "metadata": {},
   "source": [
    "# Introduction to Artificial Intelligence for Non Computing"
   ]
  },
  {
   "cell_type": "markdown",
   "metadata": {},
   "source": [
    "## Practical 3 (weeks 5 - 6)"
   ]
  },
  {
   "cell_type": "markdown",
   "metadata": {},
   "source": [
    "The following links provide additional information about data analysis , machine learning and Numpy"
   ]
  },
  {
   "cell_type": "markdown",
   "metadata": {},
   "source": [
    "Python data analysis: https://www.imooc.com/learn/843\n",
    "machine learning: https://www.imooc.com/learn/717\n",
    "Numpy :https://www.imooc.com/learn/943"
   ]
  },
  {
   "cell_type": "markdown",
   "metadata": {},
   "source": [
    "#### Theory Questions"
   ]
  },
  {
   "cell_type": "markdown",
   "metadata": {},
   "source": [
    "1\\.Which of the following are true and which are false? Give brief explanations.\n",
    "- a. In a fully observable, turn-taking, zero-sum game between two perfectly rational players,it does not help the first player to know what strategy the second player is using—that is, what move the second player will make, given the first player's move.\n",
    "- b. In a partially observable, turn-taking, zero-sum game between two perfectly rational players, it does not help the first player to know what move the second player will make, given the first player's move.\n",
    "- c. A perfectly rational backgammon agent never loses.\n",
    "\n",
    "See textbook Chapter6 24.6"
   ]
  },
  {
   "cell_type": "markdown",
   "metadata": {},
   "source": [
    "a. False, in a fully observable between two perfectly rational players, the opponent will always try to minimize the score of the first player. \n",
    "b. True\n",
    "c. True"
   ]
  },
  {
   "cell_type": "markdown",
   "metadata": {},
   "source": [
    "2\\.Define in your own words the terms constraint, backtracking search, arc consistency,backjumping, min-conflicts, and cycle cutset.\n",
    "\n",
    "See textbook Chapter6 6.16"
   ]
  },
  {
   "cell_type": "code",
   "execution_count": null,
   "metadata": {},
   "outputs": [],
   "source": [
    "constraint: the limitation of the environment, often the restrictions in certain problems\n",
    "backtracking search: try whether can continue to go further, if not, turn back and choose another direction\n",
    "arc consistency: method used to reduce the search space and make the problem easier to solve\n",
    "backjumping: a way of making backtracking search more efficient, by jumping back more than one level when a dead end is reached.\n",
    "min-conflicts: a heuristic for use with local search on CSP problems. The heuristic says that, when given a variable to modify, choose the value that conflicts with the fewest number of other variables.\n",
    "cycle cutset: a set of variables which when removed from the constraint graph make it acyclic"
   ]
  },
  {
   "cell_type": "markdown",
   "metadata": {},
   "source": [
    "3\\.Explain why it is a good heuristic to choose the variable that is most constrained but the value that is least constraining in a CSP search.\n",
    "\n",
    "See textbook Chapter6 6.9"
   ]
  },
  {
   "cell_type": "markdown",
   "metadata": {},
   "source": [
    "The most constrained variable makes sense because it chooses a variable that is (all other things being equal) likely to cause a failure, and it is more efficient to fail as early as possible (thereby pruning large parts of the search space). The least constraining value heuristic makes sense because it allows the most chances for future assignments to avoid conflict."
   ]
  },
  {
   "cell_type": "markdown",
   "metadata": {},
   "source": [
    "4\\.Consider the following procedure for choosing moves in games with chance nodes: \n",
    "- 1、Generate some dice-roll sequences (say, 50) down to a suitable depth (say, 8).\n",
    "- 2、With known dice rolls, the game tree becomes deterministic. For each dice-roll sequence,solve the resulting deterministic game tree using alpha-beta.\n",
    "- 3、Use the results to estimate the value of each move and to choose the best.Will this procedure work well? Why (or why not)?\n",
    "\n",
    "See textbook Chapter5 5.19"
   ]
  },
  {
   "cell_type": "markdown",
   "metadata": {},
   "source": [
    "This procedure will give incorrect results. Mathematically, the procedure amounts to assuming that averaging commutes with min and max, which it does not. Intuitively, the choices made by each player in the deterministic trees are based on full knowledge of future dice rolls, and bear no necessary relationship to the moves made without such knowledge. (Notice the connection to the discussion of card games in Section 5.6.2 and to the general problem of fully and partially observable Markov decision problems in Chapter 17.) In prac- tice, the method works reasonably well, and it might be a good exercise to have students compare it to the alternative of using expectiminimax with sampling (rather than summing over) dice rolls."
   ]
  },
  {
   "cell_type": "markdown",
   "metadata": {},
   "source": [
    "5\\. Now,please consider this game:  there are three plates A, B and C, each plate has three bills. A puts 1, 20, 50; B puts 5, 10, 100; C puts 1, 5, 20. All units are \"Yuan\". There are two persons A and B, and two of them can check out three plates and banknotes .（ A is ourself, The other is B）\n",
    "The game is divided into three steps: \n",
    "- 1、A select a plate from three plate.\n",
    "- 2、B take out two banknotes from A selected plate,and give the  banknotes to A.  \n",
    "- 3、A take one of the two banknotes, and take it away.among,A want to get the max banknotes, B want to let A to get the min.\n",
    "\n",
    "Try to understand the minimax algorithm，you can click the link:https://blog.csdn.net/tangchenyi/article/details/22920031"
   ]
  },
  {
   "cell_type": "code",
   "execution_count": null,
   "metadata": {},
   "outputs": [],
   "source": [
    "A plate: B takes out 1 and 20, A chooses 20\n",
    "B plate: B takes out 5 and 10, A chooses 10\n",
    "C plate: B takes out 1 and 5, A chooses 5"
   ]
  },
  {
   "cell_type": "markdown",
   "metadata": {},
   "source": [
    "### Programming Excercises"
   ]
  },
  {
   "cell_type": "markdown",
   "metadata": {},
   "source": [
    "1\\. Guess number(Single number): please generate a randomly number  with the function (random), then ask someone to guess the number,I think we should give the corresponding hint, otherwise it will be very difficult to guess the number.the game will be over untill you get the right number."
   ]
  },
  {
   "cell_type": "code",
   "execution_count": 2,
   "metadata": {},
   "outputs": [
    {
     "name": "stdout",
     "output_type": "stream",
     "text": [
      "52\n",
      "Please guess a number between 1 and 100:34\n",
      "Please guess a larger number:34\n",
      "Please guess a larger number:34\n",
      "Please guess a larger number:55\n",
      "Please guess a smaller number:53\n",
      "Please guess a smaller number:52\n",
      "The random number is 52\n"
     ]
    }
   ],
   "source": [
    "## write your answer here!\n",
    "import random\n",
    "random_number=random.randint(1,101)\n",
    "#print(random_number)\n",
    "#input0=input()\n",
    "input0=input(\"Please guess a number between 1 and 100:\")\n",
    "input0=int(input0)\n",
    "while input0!=random_number:\n",
    "    if input0>random_number:\n",
    "        input0=input(\"Please guess a smaller number:\")\n",
    "        input0=int(input0)\n",
    "    if input0<random_number:\n",
    "        input0=input(\"Please guess a larger number:\")\n",
    "        input0=int(input0)\n",
    "print(\"The random number is \"+str(random_number))"
   ]
  },
  {
   "cell_type": "markdown",
   "metadata": {},
   "source": [
    "2\\.if you had understand the guess single number games,Congratulates,next is the guess three number games,Maybe you can do it well.But this is a different way of thinking. \n",
    "first : we need generate three numbers,there are most ten times chances give  you to guess the number,of course,we also give you some cue.\n",
    "\n",
    "- 'When I say:-->It means:\n",
    "- 'error--> The 3 numbers are not in the mystical numbers.'\n",
    "- 'Only the number is correct --> the number is right , but the position is not right.'\n",
    "- 'Absolutely right--> numbers is right and the position also right.'\n",
    "\n",
    "Maybe it's better for you to understand the rule well through see the picture.\n",
    "<div style=\"float:left;\" ><img src=\"img/p1.png\" width=\"400\" height=\"300\" >"
   ]
  },
  {
   "cell_type": "code",
   "execution_count": 3,
   "metadata": {},
   "outputs": [
    {
     "name": "stdout",
     "output_type": "stream",
     "text": [
      "This is the 1 time:123\n",
      "['error', 'Only the number is correct', 'error']\n",
      "This is the 2 time:245\n",
      "['Only the number is correct', 'error', 'error']\n",
      "This is the 3 time:672\n",
      "['error', 'Absolutely right', 'Absolutely right']\n",
      "This is the 4 time:872\n",
      "['error', 'Absolutely right', 'Absolutely right']\n",
      "This is the 5 time:972\n",
      "['error', 'Absolutely right', 'Absolutely right']\n",
      "This is the 6 time:072\n",
      "['error', 'Absolutely right', 'Absolutely right']\n",
      "This is the 7 time:272\n",
      "['Only the number is correct', 'Absolutely right', 'Absolutely right']\n",
      "This is the 8 time:772\n"
     ]
    },
    {
     "data": {
      "text/plain": [
       "'Congratulations!'"
      ]
     },
     "execution_count": 3,
     "metadata": {},
     "output_type": "execute_result"
    }
   ],
   "source": [
    "import random\n",
    "def game_body():\n",
    "    random_number=str(random.randint(100,1000))\n",
    "    #print(random_number)\n",
    "    count=1\n",
    "    input0=input(\"This is the 1 time:\")\n",
    "    while int(input0)!=random_number and count<10:\n",
    "        status=[]\n",
    "        for i in range(3):\n",
    "            if input0[i]==random_number[i]:\n",
    "                status.append(\"Absolutely right\")\n",
    "            elif input0[i] in random_number:\n",
    "                status.append(\"Only the number is correct\")\n",
    "            else:\n",
    "                status.append(\"error\")\n",
    "        if status==[\"Absolutely right\",\"Absolutely right\",\"Absolutely right\"]:\n",
    "            return \"Congratulations!\"\n",
    "            input1=input(\"Do you want to play again? (yes or no)\")\n",
    "            if input1==yes:\n",
    "                game_body()\n",
    "        else:\n",
    "            print(status)\n",
    "            count+=1\n",
    "            input0=input(\"This is the %s time:\"%(str(count)))\n",
    "    print(\"You have run out of your chances!\")\n",
    "game_body()"
   ]
  },
  {
   "cell_type": "markdown",
   "metadata": {},
   "source": [
    "3\\.please try using Python's Tkinter to make a visual interface（GUI）.if you don't know anything.Maybe you can refer to the below interface.and implement it by code.\n",
    "\n",
    "<div style=\"float:left;\" ><img src=\"img/p2.png\" width=\"200\" height=\"200\" >"
   ]
  },
  {
   "cell_type": "code",
   "execution_count": 14,
   "metadata": {},
   "outputs": [],
   "source": [
    "## write your answer here!\n",
    "from tkinter import *\n",
    "root = Tk()\n",
    "list1     = [\"java\",\"SQL\",\"html\",\"php\",\"C\"]\n",
    "list2  = [\"Bootstrap\",\"jQuery\",\"CSS\"]\n",
    "listbox1  = Listbox(root)\n",
    "listbox2 = Listbox(root)\n",
    "for item in list1:\n",
    "    listbox1.insert(0,item)\n",
    "for item in list2: \n",
    "    listbox2.insert(0,item)\n",
    "listbox1.pack()\n",
    "listbox2.pack()\n",
    "root.mainloop()"
   ]
  },
  {
   "cell_type": "markdown",
   "metadata": {},
   "source": [
    "4\\.Through the initial trial of Tkinter,    please write a simple calculator.\n",
    "\n",
    "<div style=\"float:left;\" ><img src=\"img/p3.png\" width=\"180\" height=\"200\" center=\"left\"></div>\n",
    "<div style=\"float:left;\" ><img src=\"img/p4.png\" width=\"180\" height=\"200\" center=\"right\" ></div>"
   ]
  },
  {
   "cell_type": "code",
   "execution_count": 1,
   "metadata": {},
   "outputs": [
    {
     "name": "stdout",
     "output_type": "stream",
     "text": [
      "ok\n"
     ]
    }
   ],
   "source": [
    "## write your answer here!\n",
    "from tkinter import *\n",
    " \n",
    "def frame(root, side):\n",
    "    w = Frame(root)\n",
    "    w.pack(side = side, expand = YES, fill = BOTH)\n",
    "    return w\n",
    "\n",
    "def button(root, side, text, command = None):\n",
    "    w = Button(root, text = text, command = command)\n",
    "    w.pack(side = side, expand = YES, fill = BOTH)\n",
    "    return w\n",
    "\n",
    "class Calculator(Frame):\n",
    "    def __init__(self):\n",
    "        Frame.__init__(self)\n",
    "        self.pack(expand = YES, fill = BOTH)\n",
    "        self.master.title('Calculater')\n",
    "        display = StringVar()\n",
    "        Entry(self, relief = SUNKEN,\n",
    "              textvariable = display).pack(side = TOP, expand = YES,\n",
    "                                           fill = BOTH)\n",
    "        for key in('123', '456', '789', '-0.'):\n",
    "            keyF = frame(self, TOP)\n",
    "            for char in key:\n",
    "                button(keyF, LEFT, char, lambda w = display, c = char:w.set(w.get() + c))\n",
    "        opsF = frame(self, TOP)\n",
    "        for char in '+-*/=':\n",
    "            if char == '=':\n",
    "                btn = button(opsF, LEFT, char)\n",
    "                btn.bind('<ButtonRelease - 1>', lambda e, s = self, w = display:s.calc(w), '+')\n",
    "            else:\n",
    "                btn = button(opsF, LEFT, char, lambda w = display, s = '%s' %char:w.set(w.get() + s))\n",
    "        clearF = frame(self, BOTTOM)\n",
    "        button(clearF, LEFT, '←', lambda w = display:w.set(w.get()[:-1]))\n",
    "        button(clearF, LEFT, 'CE', lambda w = display:w.set(''))\n",
    "    def calc(self, display):\n",
    "        try:\n",
    "            display.set(eval(display.get()))\n",
    "        except:\n",
    "            display.set(\"ERROR\")\n",
    "\n",
    "if __name__ == '__main__':\n",
    "    print('ok')\n",
    "    Calculator().mainloop()\n",
    "        \n"
   ]
  },
  {
   "cell_type": "markdown",
   "metadata": {},
   "source": [
    "5\\.Ball game:Python's pinball game, which can realize the game function of the keyboard control bottom baffle moving collision ball similar to table tennis game. \n",
    "\n",
    "<div style=\"float:left;\" ><img src=\"img/p5.png\" width=\"200\" height=\"200\" center=\"left\"></div>\n",
    "<div style=\"float:left;\" ><img src=\"img/p6.png\" width=\"200\" height=\"200\" center=\"right\" ></div>\n"
   ]
  },
  {
   "cell_type": "markdown",
   "metadata": {},
   "source": [
    "this is a step:how to install the matplotlib,you can reference this link:https://blog.csdn.net/not_give_up_/article/details/79058272\n",
    "1. Ball Class\n",
    "    draw is responsible for moving Ball\n",
    "    Collision detection, bounce, Ball detection of Paddle \n",
    "2. Paddle Class\n",
    "    draw is responsible for moving Paddle\n",
    "    Collision detection to determine whether or not to continue ,Monitor keyboard events\n",
    "3. main cycle\n",
    "    Drawing the Ball and Paddle"
   ]
  },
  {
   "cell_type": "code",
   "execution_count": 3,
   "metadata": {},
   "outputs": [
    {
     "ename": "SystemExit",
     "evalue": "游戏已退出!",
     "output_type": "error",
     "traceback": [
      "An exception has occurred, use %tb to see the full traceback.\n",
      "\u001b[0;31mSystemExit\u001b[0m\u001b[0;31m:\u001b[0m 游戏已退出!\n"
     ]
    },
    {
     "name": "stderr",
     "output_type": "stream",
     "text": [
      "/usr/local/lib/python3.6/site-packages/IPython/core/interactiveshell.py:2918: UserWarning: To exit: use 'exit', 'quit', or Ctrl-D.\n",
      "  warn(\"To exit: use 'exit', 'quit', or Ctrl-D.\", stacklevel=1)\n"
     ]
    }
   ],
   "source": [
    "## write your answer here!\n",
    "from tkinter import *\n",
    "from tkinter import messagebox\n",
    "import random\n",
    "import time\n",
    "from PIL import Image, ImageTk\n",
    "import sys\n",
    "\n",
    "class Game:\n",
    "    def __init__(self):\n",
    "        self.tk = Tk()\n",
    "        self.times = 0\n",
    "        sw = self.tk.winfo_screenwidth()\n",
    "        sh = self.tk.winfo_screenheight()\n",
    "        ww = 500\n",
    "        wh = 400\n",
    "        x = (sw-ww)/2\n",
    "        y = (sh-wh)/2\n",
    "        self.tk.geometry(\"%dx%d+%d+%d\" % (ww, wh, x, y))\n",
    "        self.tk.resizable(False, False)\n",
    "        self.tk.wm_attributes(\"-topmost\", 1)  # at top\n",
    "        self.canvas = Canvas(self.tk, width=500, height=400,\n",
    "                             bd=0, highlightthickness=0, background='#FFFFFF')\n",
    "        self.canvas.place(width=500, height=400)\n",
    " \n",
    "        self.tk.update()\n",
    "        self.xunhuan()\n",
    " \n",
    "    def xunhuan(self):\n",
    "        try:\n",
    "            paddle = Paddle(self.canvas, 'green', 100)\n",
    "            ball = Ball(self.canvas, paddle, '#D11C43', 0)\n",
    "            while True:\n",
    "                if ball.hit_bottom == False:\n",
    "                    ball.draw()\n",
    "                    paddle.draw()\n",
    "                else:\n",
    "                    b = messagebox.askyesno(\n",
    "                        '失败', message=\"您的分数为：\" + str(ball.score)+\"\\n是否重新开始游戏?\")\n",
    "                    if bool(b) is True:\n",
    "                        paddle.canvas.delete(paddle.id)\n",
    "                        self.sever()\n",
    "                    else:\n",
    "                        sys.exit()\n",
    "                self.tk.update_idletasks()\n",
    "                self.tk.update()\n",
    "                time.sleep(0.01+self.times)\n",
    "        except:\n",
    "            sys.exit('游戏已退出!')\n",
    " \n",
    "    def sever(self):\n",
    "        self.xunhuan()\n",
    " \n",
    "    def test1(self):\n",
    "        self.times += 0.001\n",
    " \n",
    "    def test2(self):\n",
    "        self.times -= 0.001\n",
    " \n",
    " \n",
    "class Ball:\n",
    "    def __init__(self, canvas, paddle, color, score):\n",
    "        self.score = 0\n",
    "        self.canvas = canvas\n",
    "        self.paddle = paddle\n",
    "        self.id = canvas.create_oval(\n",
    "            20, 20, 35, 35, fill=color, outline='green')\n",
    "        self.canvas.move(self.id, 245, 100)\n",
    "        startx = [-3, -2, -1, 1, 2, 3]\n",
    "        random.shuffle(startx)\n",
    "        self.x = startx[0]\n",
    "        self.y = -3\n",
    "        self.canvas_height = self.canvas.winfo_height()\n",
    "        self.canvas_width = self.canvas.winfo_width()\n",
    "        self.hit_bottom = False\n",
    "        b = messagebox.askyesno('game', '游戏是否开始?')\n",
    "        if bool(b) is True:\n",
    "            self.draw()\n",
    "        else:\n",
    "            sys.exit()\n",
    " \n",
    "    def draw(self):\n",
    "        self.canvas.move(self.id, self.x, self.y)\n",
    "        pos = self.canvas.coords(self.id)\n",
    "        if pos[1] <= 0 or self.hit_paddle(pos) == True:\n",
    "            self.y = -self.y\n",
    "        if pos[0] <= 0 or pos[2] >= self.canvas_width:\n",
    "            self.x = -self.x\n",
    "        if pos[3] >= self.canvas_height:\n",
    "            self.hit_bottom = True\n",
    " \n",
    "    def hit_paddle(self, pos):\n",
    "        paddle_pos = self.canvas.coords(self.paddle.id)\n",
    "        if pos[2] >= paddle_pos[0] and pos[0] <= paddle_pos[2]:\n",
    "            if pos[3] >= paddle_pos[1] and pos[3] <= paddle_pos[3]:\n",
    "                self.score += 1\n",
    "                return True\n",
    "        return False\n",
    " \n",
    " \n",
    "class Paddle:\n",
    "    def __init__(self, canvas, color, width):\n",
    "        self.canvas = canvas\n",
    "        self.id = canvas.create_rectangle(0, 0, width, 10, fill=color)\n",
    "        self.x = 0\n",
    "        self.y = 0\n",
    "        self.canvas.move(self.id, 200, 300)\n",
    "        self.canvas_width = self.canvas.winfo_width()\n",
    "        self.canvas.bind_all(\"<Key-Left>\", self.turn_left)\n",
    "        self.canvas.bind_all(\"<Key-Right>\", self.turn_right)\n",
    " \n",
    "    def draw(self):\n",
    "        pos = self.canvas.coords(self.id)\n",
    "        if pos[0] + self.x >= 0 and pos[2] + self.x <= self.canvas_width:\n",
    "            self.canvas.move(self.id, self.x, 0)\n",
    " \n",
    "    def turn_left(self, event):\n",
    "        self.x = -4\n",
    " \n",
    "    def turn_right(self, event):\n",
    "        self.x = 4\n",
    " \n",
    " \n",
    "def main():\n",
    "    game = Game()\n",
    " \n",
    " \n",
    "if __name__ == '__main__':\n",
    "    main()"
   ]
  }
 ],
 "metadata": {
  "kernelspec": {
   "display_name": "Python 3",
   "language": "python",
   "name": "python3"
  },
  "language_info": {
   "codemirror_mode": {
    "name": "ipython",
    "version": 3
   },
   "file_extension": ".py",
   "mimetype": "text/x-python",
   "name": "python",
   "nbconvert_exporter": "python",
   "pygments_lexer": "ipython3",
   "version": "3.6.5"
  }
 },
 "nbformat": 4,
 "nbformat_minor": 2
}
